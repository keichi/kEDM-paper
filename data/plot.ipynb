{
 "cells": [
  {
   "cell_type": "code",
   "execution_count": 4,
   "metadata": {},
   "outputs": [],
   "source": [
    "import matplotlib.pyplot as plt\n",
    "import numpy as np\n",
    "import pandas as pd\n",
    "import matplotlib as mpl\n",
    "import seaborn as sns\n",
    "\n",
    "# Configure matplotlib and seaborn\n",
    "\n",
    "NEW_TABLEAU10 = ['#4E79A7', '#F28E2B', '#E15759', '#76B7B2','#59A14E',\n",
    "                 '#EDC949','#B07AA2','#FF9DA7','#9C755F','#BAB0AC']\n",
    "\n",
    "mpl.rcParams[\"figure.figsize\"] = (3.5, 2.625)\n",
    "\n",
    "sns.set_context(\"paper\", rc={\"font.size\": 8,\"axes.titlesize\": 8,\"axes.labelsize\": 8,\n",
    "                             \"xtick.labelsize\": 7, \"ytick.labelsize\": 7, \"legend.fontsize\": 7})\n",
    "\n",
    "# sns.set_context(\"notebook\")\n",
    "\n",
    "sns.set_style(\"whitegrid\", rc={\"patch.edgecolor\": \"black\"})\n",
    "sns.set_palette(sns.color_palette(NEW_TABLEAU10))"
   ]
  },
  {
   "cell_type": "code",
   "execution_count": 3,
   "metadata": {
    "scrolled": false
   },
   "outputs": [],
   "source": [
    "def plot_breakdown(df):\n",
    "    BAR_WIDTH = 0.25\n",
    "    BAR_GAP = 0.20\n",
    "\n",
    "    # set height of bar\n",
    "    bars1 = df[\"kEDM total\"]\n",
    "    bars2 = df[\"mpEDM total\"]\n",
    "\n",
    "    # Compute positions of bars\n",
    "    r1 = np.arange(len(bars1)) - BAR_GAP / 2\n",
    "    r2 = r1 + BAR_WIDTH + BAR_GAP / 2\n",
    "\n",
    "    # Create plot\n",
    "    fig = plt.figure()\n",
    "    ax = fig.add_subplot(111)\n",
    "\n",
    "    # Plot bars\n",
    "\n",
    "    rect1 = ax.bar(r1, df[\"kEDM partial_sort\"], width=BAR_WIDTH, label=\"kEDM partial_sort\", \n",
    "                   color=\"C1\", linewidth=0.5)\n",
    "    rect2 = ax.bar(r1, df[\"kEDM calc_distances\"], bottom=df[\"kEDM partial_sort\"], width=BAR_WIDTH, \n",
    "                   label=\"kEDM calc_distances\", color=\"C0\", linewidth=0.5)\n",
    "\n",
    "    ax.bar(r2, df[\"mpEDM partial_sort\"], width=BAR_WIDTH, label=\"mpEDM partial_sort\", \n",
    "           color=\"C1\", linewidth=0.5)\n",
    "    ax.bar(r2, df[\"mpEDM calc_distances\"], bottom=df[\"mpEDM partial_sort\"], width=BAR_WIDTH, \n",
    "           label=\"mpEDM calc_distances\", color=\"C0\", linewidth=0.5)\n",
    "\n",
    "    # Setup x and y axes\n",
    "    ax.set_xlabel(\"E\")\n",
    "    ax.set_xticks(list(r1) + list(r2), minor=True)\n",
    "    ax.set_xticks((r1 + r2) / 2)\n",
    "    ax.set_xticklabels([\"kEDM\"] * len(bars1) + [\"mpEDM\"] * len(bars1), rotation=90, minor=True)\n",
    "    ax.set_xticklabels(df[\"E\"])\n",
    "    ax.set_ylabel(\"Runtime [ms]\")\n",
    "    \n",
    "    for text in ax.get_xticklabels(which=\"major\"):\n",
    "        text.set_y(-0.20)\n",
    "\n",
    "    ax.legend([rect2, rect1], [\"Parwise distances\", \"Partial sort\"])\n",
    "\n",
    "    return fig"
   ]
  },
  {
   "cell_type": "code",
   "execution_count": 4,
   "metadata": {
    "scrolled": false
   },
   "outputs": [
    {
     "data": {
      "image/png": "[encoded data removed]",
      "text/plain": [
       "<Figure size 252x189 with 1 Axes>"
      ]
     },
     "metadata": {},
     "output_type": "display_data"
    }
   ],
   "source": [
    "breakdown_v100 = pd.read_table(\"breakdown_knn_v100.txt\")\n",
    "fig = plot_breakdown(breakdown_v100[breakdown_v100[\"L\"] == 10000])\n",
    "\n",
    "plt.show(fig)\n",
    "fig.savefig(\"../figs/breakdown_v100.pdf\", bbox_inches=\"tight\", pad_inches=0)"
   ]
  },
  {
   "cell_type": "code",
   "execution_count": 5,
   "metadata": {
    "scrolled": true
   },
   "outputs": [
    {
     "data": {
      "image/png": "[encoded data removed]",
      "text/plain": [
       "<Figure size 252x189 with 1 Axes>"
      ]
     },
     "metadata": {},
     "output_type": "display_data"
    }
   ],
   "source": [
    "breakdown_epyc = pd.read_table(\"breakdown_knn_epyc.txt\")\n",
    "fig = plot_breakdown(breakdown_epyc[breakdown_epyc[\"L\"] == 10000])\n",
    "\n",
    "plt.show(fig)\n",
    "fig.savefig(\"../figs/breakdown_epyc.pdf\", bbox_inches=\"tight\", pad_inches=0)"
   ]
  },
  {
   "cell_type": "code",
   "execution_count": 6,
   "metadata": {
    "scrolled": false
   },
   "outputs": [
    {
     "data": {
      "image/png": "[encoded data removed]",
      "text/plain": [
       "<Figure size 252x189 with 1 Axes>"
      ]
     },
     "metadata": {},
     "output_type": "display_data"
    }
   ],
   "source": [
    "def plot_runtime(df):\n",
    "    BAR_WIDTH = 0.25\n",
    "    BAR_GAP = 0.20\n",
    "\n",
    "    # set height of bar\n",
    "    bars1 = df[\"kEDM lookup\"]\n",
    "    bars2 = df[\"mpEDM lookup\"]\n",
    "\n",
    "    # Compute positions of bars\n",
    "    r1 = np.arange(len(bars1)) - BAR_GAP / 2\n",
    "    r2 = r1 + BAR_WIDTH + BAR_GAP / 2\n",
    "\n",
    "    # Create plot\n",
    "    fig = plt.figure()\n",
    "    ax = fig.add_subplot(111)\n",
    "\n",
    "    # Plot bars\n",
    "    ax.bar(r1, df[\"kEDM lookup\"], width=BAR_WIDTH, label=\"kEDM lookup\", \n",
    "                   color=\"C0\", linewidth=0.5)\n",
    "    ax.bar(r2, df[\"mpEDM lookup\"], width=BAR_WIDTH, label=\"mpEDM lookup\", \n",
    "           color=\"C1\", linewidth=0.5)\n",
    "\n",
    "    # Setup x and y axes\n",
    "    ax.set_xlabel(\"E\")\n",
    "    ax.set_xticks(list(r1) + list(r2), minor=True)\n",
    "    ax.set_xticks((r1 + r2) / 2)\n",
    "    ax.set_xticklabels([\"kEDM\"] * len(bars1) + [\"mpEDM\"] * len(bars1), rotation=90, minor=True)\n",
    "    ax.set_xticklabels(df[\"E\"])\n",
    "    ax.set_ylabel(\"Runtime [ms]\")\n",
    "    \n",
    "    for text in ax.get_xticklabels(which=\"major\"):\n",
    "        text.set_y(-0.20)\n",
    "    \n",
    "    return fig\n",
    "\n",
    "runtime_lookup_epyc = pd.read_table(\"runtime_lookup_epyc.txt\")\n",
    "fig = plot_runtime(runtime_lookup_epyc[runtime_lookup_epyc[\"L\"] == 10000])\n",
    "plt.show(fig)\n",
    "fig.savefig(\"../figs/runtime_lookup_epyc.pdf\", bbox_inches=\"tight\", pad_inches=0)"
   ]
  },
  {
   "cell_type": "code",
   "execution_count": 18,
   "metadata": {},
   "outputs": [
    {
     "data": {
      "image/png": "[encoded data removed]",
      "text/plain": [
       "<Figure size 252x189 with 1 Axes>"
      ]
     },
     "metadata": {},
     "output_type": "display_data"
    }
   ],
   "source": [
    "BAR_WIDTH = 0.25\n",
    "\n",
    "runtime_lookup_v100 = pd.read_table(\"runtime_lookup_v100.txt\")\n",
    "df = runtime_lookup_v100[runtime_lookup_v100[\"L\"] == 10000]\n",
    "\n",
    "# Create plot\n",
    "fig = plt.figure()\n",
    "ax = fig.add_subplot(111)\n",
    "\n",
    "# Plot bars\n",
    "ax.bar(np.arange(len(df[\"E\"])), df[\"kEDM lookup\"], width=BAR_WIDTH, label=\"kEDM lookup\", \n",
    "               color=\"C0\", linewidth=0.5)\n",
    "\n",
    "# Setup x and y axes\n",
    "ax.set_xlabel(\"E\")\n",
    "ax.set_xticks(np.arange(len(df[\"E\"])))\n",
    "ax.set_xticklabels(df[\"E\"])\n",
    "ax.set_ylabel(\"Runtime [ms]\")\n",
    "    \n",
    "plt.show(fig)\n",
    "fig.savefig(\"../figs/runtime_lookup_v100.pdf\", bbox_inches=\"tight\", pad_inches=0)"
   ]
  }
 ],
 "metadata": {
  "kernelspec": {
   "display_name": "Python 3",
   "language": "python",
   "name": "python3"
  },
  "language_info": {
   "codemirror_mode": {
    "name": "ipython",
    "version": 3
   },
   "file_extension": ".py",
   "mimetype": "text/x-python",
   "name": "python",
   "nbconvert_exporter": "python",
   "pygments_lexer": "ipython3",
   "version": "3.8.5"
  }
 },
 "nbformat": 4,
 "nbformat_minor": 4
}
